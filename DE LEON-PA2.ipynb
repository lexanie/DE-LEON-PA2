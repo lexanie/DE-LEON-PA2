{
 "cells": [
  {
   "cell_type": "markdown",
   "id": "4541395c-cbcd-4749-be7f-e117203c4ee9",
   "metadata": {},
   "source": [
    "### EXPERIMENT 2: Numerical Phyton\n",
    "\n",
    "DE LEON, Maria Nichole Lexanie C."
   ]
  },
  {
   "cell_type": "code",
   "execution_count": 2,
   "id": "b9c8dfe7-1128-412e-9acc-6ce6acd9d8f1",
   "metadata": {},
   "outputs": [],
   "source": [
    "import numpy as np"
   ]
  },
  {
   "cell_type": "markdown",
   "id": "c2bdbdbe-9088-401f-a125-99d15c2df8d6",
   "metadata": {},
   "source": [
    "#### **NORMALIZATION PROBLEM**"
   ]
  },
  {
   "cell_type": "code",
   "execution_count": 6,
   "id": "ef11d48e-e74e-48cb-a608-05dc0745073a",
   "metadata": {},
   "outputs": [
    {
     "data": {
      "text/plain": [
       "array([[0.76137446, 0.37629812, 0.00384683, 0.27392871, 0.54079038],\n",
       "       [0.26354101, 0.60446247, 0.52844448, 0.97795409, 0.95704682],\n",
       "       [0.5289523 , 0.92066875, 0.54864608, 0.36705719, 0.35166064],\n",
       "       [0.31019546, 0.52028749, 0.92512979, 0.6271112 , 0.3462683 ],\n",
       "       [0.83292823, 0.22882955, 0.91013858, 0.88391471, 0.93695328]])"
      ]
     },
     "execution_count": 6,
     "metadata": {},
     "output_type": "execute_result"
    }
   ],
   "source": [
    "# Create a random 5x5 ndarray and store it in variable X\n",
    "\n",
    "X = np.random.rand(5,5)\n",
    "X"
   ]
  },
  {
   "cell_type": "code",
   "execution_count": 12,
   "id": "488dab06-c4ff-469e-8600-ee38098086ca",
   "metadata": {},
   "outputs": [],
   "source": [
    "# Normalize X\n",
    "\n",
    "# Obtain element-wise mean and standard deviation\n",
    "X_mean = X.mean()\n",
    "X_std = X.std ()\n",
    "X_normalize = (X - X_mean) / X_std\n",
    "\n",
    "# Save the normalized ndarray as X_normalized.npy\n",
    "np.save('X_normalized.npy', X_normalize)"
   ]
  },
  {
   "cell_type": "code",
   "execution_count": 14,
   "id": "833ec9fb-7413-48a5-a6e4-faee337b2af3",
   "metadata": {},
   "outputs": [
    {
     "name": "stdout",
     "output_type": "stream",
     "text": [
      "Original 5x5 ndarray X:\n",
      " [[0.76137446 0.37629812 0.00384683 0.27392871 0.54079038]\n",
      " [0.26354101 0.60446247 0.52844448 0.97795409 0.95704682]\n",
      " [0.5289523  0.92066875 0.54864608 0.36705719 0.35166064]\n",
      " [0.31019546 0.52028749 0.92512979 0.6271112  0.3462683 ]\n",
      " [0.83292823 0.22882955 0.91013858 0.88391471 0.93695328]]\n",
      "\n",
      "Normalized 5x5 ndarray X_normalized:\n",
      " [[ 0.65563701 -0.74450761 -2.09874737 -1.11672467 -0.14641075]\n",
      " [-1.15449453  0.08510215 -0.19130066  1.44312455  1.36710531]\n",
      " [-0.1894542   1.23483401 -0.11784728 -0.77810783 -0.83408995]\n",
      " [-0.98485811 -0.22095962  1.25105441  0.16745334 -0.8536966 ]\n",
      " [ 0.91580786 -1.28070605  1.1965461   1.10119564  1.29404484]]\n"
     ]
    }
   ],
   "source": [
    "# Print the arrays\n",
    "print(\"Original 5x5 ndarray X:\\n\", X)\n",
    "print(\"\\nNormalized 5x5 ndarray X_normalized:\\n\", X_normalize)"
   ]
  },
  {
   "cell_type": "markdown",
   "id": "0ca83d2f-1609-443f-829c-9c178df50877",
   "metadata": {},
   "source": [
    "#### **DIVISIBLE BY 3 PROBLEM**"
   ]
  },
  {
   "cell_type": "code",
   "execution_count": 30,
   "id": "126d5915-ad73-4a93-a463-8f409816a181",
   "metadata": {},
   "outputs": [
    {
     "name": "stdout",
     "output_type": "stream",
     "text": [
      "[[    1     4     9    16    25    36    49    64    81   100]\n",
      " [  121   144   169   196   225   256   289   324   361   400]\n",
      " [  441   484   529   576   625   676   729   784   841   900]\n",
      " [  961  1024  1089  1156  1225  1296  1369  1444  1521  1600]\n",
      " [ 1681  1764  1849  1936  2025  2116  2209  2304  2401  2500]\n",
      " [ 2601  2704  2809  2916  3025  3136  3249  3364  3481  3600]\n",
      " [ 3721  3844  3969  4096  4225  4356  4489  4624  4761  4900]\n",
      " [ 5041  5184  5329  5476  5625  5776  5929  6084  6241  6400]\n",
      " [ 6561  6724  6889  7056  7225  7396  7569  7744  7921  8100]\n",
      " [ 8281  8464  8649  8836  9025  9216  9409  9604  9801 10000]]\n"
     ]
    }
   ],
   "source": [
    "# Create a 10x10 ndarray with squares of the first 100 positive int\n",
    "A = np.arange(1,101)**2\n",
    "A = A.reshape(10,10)\n",
    "print (A)"
   ]
  },
  {
   "cell_type": "code",
   "execution_count": 32,
   "id": "fe099030-c037-45ce-bee3-277999687385",
   "metadata": {},
   "outputs": [],
   "source": [
    "# Determine all the elements that are divisible by 3\n",
    "d3 = A[A % 3 == 0]\n",
    "\n",
    "# Save the ndarray as div_by_3.npy\n",
    "np.save('div_by_3.npy', d3)"
   ]
  },
  {
   "cell_type": "code",
   "execution_count": 40,
   "id": "8679b470-4b52-4808-9679-73883db703d7",
   "metadata": {},
   "outputs": [
    {
     "name": "stdout",
     "output_type": "stream",
     "text": [
      "ndarray A:\n",
      " [[    1     4     9    16    25    36    49    64    81   100]\n",
      " [  121   144   169   196   225   256   289   324   361   400]\n",
      " [  441   484   529   576   625   676   729   784   841   900]\n",
      " [  961  1024  1089  1156  1225  1296  1369  1444  1521  1600]\n",
      " [ 1681  1764  1849  1936  2025  2116  2209  2304  2401  2500]\n",
      " [ 2601  2704  2809  2916  3025  3136  3249  3364  3481  3600]\n",
      " [ 3721  3844  3969  4096  4225  4356  4489  4624  4761  4900]\n",
      " [ 5041  5184  5329  5476  5625  5776  5929  6084  6241  6400]\n",
      " [ 6561  6724  6889  7056  7225  7396  7569  7744  7921  8100]\n",
      " [ 8281  8464  8649  8836  9025  9216  9409  9604  9801 10000]]\n",
      "\n",
      "Elements divisible by 3:\n",
      " [   9   36   81  144  225  324  441  576  729  900 1089 1296 1521 1764\n",
      " 2025 2304 2601 2916 3249 3600 3969 4356 4761 5184 5625 6084 6561 7056\n",
      " 7569 8100 8649 9216 9801]\n"
     ]
    }
   ],
   "source": [
    "# Print the ndarray\n",
    "print(\"ndarray A:\\n\", A)\n",
    "print(\"\\nElements divisible by 3:\\n\", d3)"
   ]
  }
 ],
 "metadata": {
  "kernelspec": {
   "display_name": "Python 3 (ipykernel)",
   "language": "python",
   "name": "python3"
  },
  "language_info": {
   "codemirror_mode": {
    "name": "ipython",
    "version": 3
   },
   "file_extension": ".py",
   "mimetype": "text/x-python",
   "name": "python",
   "nbconvert_exporter": "python",
   "pygments_lexer": "ipython3",
   "version": "3.12.4"
  }
 },
 "nbformat": 4,
 "nbformat_minor": 5
}
